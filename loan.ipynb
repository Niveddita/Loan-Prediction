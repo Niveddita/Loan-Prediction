{
 "cells": [
  {
   "cell_type": "markdown",
   "metadata": {},
   "source": [
    "# Loan Prediction Problem.\n",
    "\n",
    "This project will require students to write an application that will predict whether or not a person will be approved for a loan.  The goal being that the loan approval process can be automated.  The loan company will approve the loan based on a number of criteria that are found in the data set, such as Gender, Marital Status, Education, Number of Dependents, etc.  "
   ]
  },
  {
   "cell_type": "markdown",
   "metadata": {},
   "source": [
    "This project is a binary classification problem.  The classification values are:\n",
    "'Yes' if the loan is approved.\n",
    "'No' if the loan is not approved.\n",
    "\n"
   ]
  },
  {
   "cell_type": "markdown",
   "metadata": {},
   "source": [
    "## About the data\n",
    "\n",
    "There are two data sets, the Training data set and the Testing data set. There are both continuous and categorical variables in the data set.  Additionally, there are missing values in the data. \n",
    "\n",
    "You will need to turn the categorical variable values into numerical values.  Additionally, you will need to do some preprocessing to fill in missing values. \n"
   ]
  },
  {
   "cell_type": "markdown",
   "metadata": {},
   "source": [
    "## Exploratory Data Analysis. \n",
    "\n",
    "You will want to do some exploratory data analysis.  Techniques include:\n",
    " - Univariate Analysis\n",
    " - Bivariate Analysis\n",
    " - Visualization techniques such as heatmaps. \n",
    " \n",
    "This analysis should be used to determine which fields should be kept for use in the model training and which fields should be dropped. \n"
   ]
  },
  {
   "cell_type": "markdown",
   "metadata": {},
   "source": [
    "## Models\n",
    "\n",
    "There are a number of ML models that are suitable for classification problems. These include:\n",
    "\n",
    " - Support Vector Machines\n",
    " - Random Forest\n",
    " - Logistic Regression\n",
    " \n",
    " Note that you may have to do some feature engineering to feed different combinations of the fields to the models to attempt and improve accuracy. \n",
    " "
   ]
  },
  {
   "cell_type": "markdown",
   "metadata": {},
   "source": [
    "## Metrics\n",
    "\n",
    "You will need to generate and display metrics for the various models. \n",
    "Metrics can include:\n",
    "\n",
    " - Confusion matrix.\n",
    " - ROC (Reciver operation chareristics) \n",
    " - R Squared (Adjusted R Squared)  also known as the coefficient of determination.\n",
    " - F1 score"
   ]
  }
 ],
 "metadata": {
  "kernelspec": {
   "display_name": "Python 3",
   "language": "python",
   "name": "python3"
  },
  "language_info": {
   "codemirror_mode": {
    "name": "ipython",
    "version": 3
   },
   "file_extension": ".py",
   "mimetype": "text/x-python",
   "name": "python",
   "nbconvert_exporter": "python",
   "pygments_lexer": "ipython3",
   "version": "3.8.5"
  }
 },
 "nbformat": 4,
 "nbformat_minor": 4
}
